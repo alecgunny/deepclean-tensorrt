{
 "cells": [
  {
   "cell_type": "code",
   "execution_count": 1,
   "metadata": {},
   "outputs": [],
   "source": [
    "from bokeh.io import output_notebook, output_file, show, save\n",
    "from bokeh.plotting import figure\n",
    "from bokeh.layouts import row\n",
    "from bokeh.palettes import Dark2_5 as palette\n",
    "from bokeh.models import Range1d\n",
    "\n",
    "import pandas as pd\n",
    "import numpy as np\n",
    "from glob import glob\n",
    "\n",
    "# output_notebook()\n",
    "output_file('pareto.html')"
   ]
  },
  {
   "cell_type": "code",
   "execution_count": 2,
   "metadata": {
    "scrolled": true
   },
   "outputs": [
    {
     "data": {
      "text/plain": [
       "'C:\\\\Users\\\\agunny\\\\Documents\\\\mit-logs\\\\pareto.html'"
      ]
     },
     "execution_count": 2,
     "metadata": {},
     "output_type": "execute_result"
    }
   ],
   "source": [
    "filenames = glob('logs/*.csv')\n",
    "get_name = lambda fname: fname.split('-')[0].split('_', maxsplit=1)[1]\n",
    "model_names = list(set(map(get_name, filenames)))\n",
    "\n",
    "x_col = 'p50 latency'\n",
    "y_col = 'Inferences/Second'\n",
    "batch_size = 8\n",
    "min_y, max_y = 1<<25, 0\n",
    "\n",
    "figures = []\n",
    "for i, instances in enumerate([1, 2, 4]):\n",
    "    p = figure(\n",
    "        height=500,\n",
    "        width=350,\n",
    "        tools='',\n",
    "        title='{} Concurrent Model Instances'.format(instances)\n",
    "    )\n",
    "    p.xaxis.axis_label = 'p50 Latency (us)'\n",
    "    p.yaxis.axis_label = 'Throughput (Samples/Second)'\n",
    "\n",
    "    for model_name, color in zip(model_names, palette):\n",
    "        # first one isn't full for some reason, going to just hack\n",
    "        csvs = glob('logs/deepclean_{}-{}-*.csv'.format(model_name, instances))[1:]\n",
    "\n",
    "        data = pd.read_csv(csvs[0], usecols=[x_col, y_col]).values\n",
    "        for csv in csvs[1:]:\n",
    "            df = pd.read_csv(csv, usecols=[x_col, y_col])\n",
    "            data += df.values\n",
    "        data /= len(csvs)\n",
    "        y, x = data.T\n",
    "        p.line(\n",
    "            x,\n",
    "            batch_size*y,\n",
    "            line_color=color,\n",
    "            legend_label=model_name,\n",
    "            line_width=2.3\n",
    "        )\n",
    "\n",
    "        min_y = min(min_y, batch_size*y.min())\n",
    "        max_y = max(max_y, batch_size*y.max())\n",
    "\n",
    "    p.legend.location = 'bottom_right'\n",
    "    figures.append(p)\n",
    "\n",
    "for p in figures:\n",
    "    p.y_range = Range1d(0.95*min_y, 1.05*max_y)\n",
    "\n",
    "# show(row(figures))\n",
    "save(row(figures))"
   ]
  }
 ],
 "metadata": {
  "kernelspec": {
   "display_name": "Python 3",
   "language": "python",
   "name": "python3"
  },
  "language_info": {
   "codemirror_mode": {
    "name": "ipython",
    "version": 3
   },
   "file_extension": ".py",
   "mimetype": "text/x-python",
   "name": "python",
   "nbconvert_exporter": "python",
   "pygments_lexer": "ipython3",
   "version": "3.7.6"
  }
 },
 "nbformat": 4,
 "nbformat_minor": 4
}
